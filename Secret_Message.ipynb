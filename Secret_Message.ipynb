{
  "cells": [
    {
      "cell_type": "markdown",
      "metadata": {
        "id": "view-in-github",
        "colab_type": "text"
      },
      "source": [
        "<a href=\"https://colab.research.google.com/github/santhuroyal07/Secret-message/blob/main/Secret_Message.ipynb\" target=\"_parent\"><img src=\"https://colab.research.google.com/assets/colab-badge.svg\" alt=\"Open In Colab\"/></a>"
      ]
    },
    {
      "cell_type": "markdown",
      "id": "d0cbdaa9",
      "metadata": {
        "id": "d0cbdaa9"
      },
      "source": [
        "## Secret Message Project"
      ]
    },
    {
      "cell_type": "code",
      "execution_count": 1,
      "id": "8cec95d8",
      "metadata": {
        "id": "8cec95d8",
        "colab": {
          "base_uri": "https://localhost:8080/"
        },
        "outputId": "5af278bc-1c3e-4287-f552-a5c17de1131f"
      },
      "outputs": [
        {
          "output_type": "stream",
          "name": "stdout",
          "text": [
            "Enter the message to encrypt: santhosh\n",
            "Encrypted message: xfsymtxm\n",
            "Decrypted message: santhosh\n"
          ]
        }
      ],
      "source": [
        "alphabets=\"abcdefghijklmnopqrstuvwxyz\"\n",
        "message=input(\"Enter the message to encrypt: \")\n",
        "encrypt,decrypt=\"\",\"\"\n",
        "key=5\n",
        "for letter in message:\n",
        "    new_position=(alphabets.find(letter)+key)%len(alphabets)\n",
        "    encrypt+=alphabets[new_position]\n",
        "print(\"Encrypted message:\",encrypt)\n",
        "for letter in encrypt:\n",
        "    new_position=(alphabets.find(letter)-key)%len(alphabets)\n",
        "    decrypt+=alphabets[new_position]\n",
        "print(\"Decrypted message:\",decrypt)"
      ]
    }
  ],
  "metadata": {
    "kernelspec": {
      "display_name": "Python 3 (ipykernel)",
      "language": "python",
      "name": "python3"
    },
    "language_info": {
      "codemirror_mode": {
        "name": "ipython",
        "version": 3
      },
      "file_extension": ".py",
      "mimetype": "text/x-python",
      "name": "python",
      "nbconvert_exporter": "python",
      "pygments_lexer": "ipython3",
      "version": "3.11.4"
    },
    "colab": {
      "provenance": [],
      "include_colab_link": true
    }
  },
  "nbformat": 4,
  "nbformat_minor": 5
}